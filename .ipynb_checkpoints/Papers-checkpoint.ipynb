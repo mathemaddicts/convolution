{
 "cells": [
  {
   "cell_type": "markdown",
   "metadata": {},
   "source": [
    "# List of papers\n",
    "\n",
    "- [Geometric deep learning: going beyond Euclidean data](https://drive.google.com/uc?id=1W0FzRkoNXiZ6okwwrPCiP6WUDC-dRkP1&export=download)\n",
    "- [Spatial Transformer Networks](https://drive.google.com/uc?id=1wdC3syGIPpp5xfr1ZjebtExDL7JVPxwi&export=download)\n",
    "\n",
    "\n",
    "\n"
   ]
  },
  {
   "cell_type": "code",
   "execution_count": null,
   "metadata": {},
   "outputs": [],
   "source": []
  }
 ],
 "metadata": {
  "kernelspec": {
   "display_name": "Python 3",
   "language": "python",
   "name": "python3"
  },
  "language_info": {
   "codemirror_mode": {
    "name": "ipython",
    "version": 3
   },
   "file_extension": ".py",
   "mimetype": "text/x-python",
   "name": "python",
   "nbconvert_exporter": "python",
   "pygments_lexer": "ipython3",
   "version": "3.8.4"
  }
 },
 "nbformat": 4,
 "nbformat_minor": 4
}
